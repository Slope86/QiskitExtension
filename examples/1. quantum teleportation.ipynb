{
 "cells": [
  {
   "cell_type": "code",
   "execution_count": 58,
   "id": "ed236ddd",
   "metadata": {},
   "outputs": [],
   "source": [
    "import math\n",
    "import random\n",
    "\n",
    "from qiskit_extension.quantum_circuit2 import QuantumCircuit2 as qc2\n",
    "from qiskit_extension.state_vector2 import StateVector2 as sv2"
   ]
  },
  {
   "attachments": {},
   "cell_type": "markdown",
   "id": "38130547",
   "metadata": {},
   "source": [
    "# Quantum teleportation\n",
    "## 事前準備\n",
    "初始化Alice欲傳送的未知量子狀態"
   ]
  },
  {
   "cell_type": "code",
   "execution_count": 59,
   "id": "6f5629a9",
   "metadata": {},
   "outputs": [
    {
     "data": {
      "text/latex": [
       "$\\begin{alignedat}{9}&\\; \\;&\\;0.666673898113865&|\\texttt{0}\\rangle \\;+&\\;0.745349524433782&|\\texttt{1}\\rangle &\\end{alignedat}$"
      ],
      "text/plain": [
       "<IPython.core.display.Latex object>"
      ]
     },
     "execution_count": 59,
     "metadata": {},
     "output_type": "execute_result"
    }
   ],
   "source": [
    "state_unknown = sv2.from_label((random.random(), \"0\"), (random.random(), \"1\"))\n",
    "state_unknown.show_state()"
   ]
  },
  {
   "attachments": {},
   "cell_type": "markdown",
   "id": "b96f2ccc",
   "metadata": {},
   "source": [
    "讓Alice與Bob共享一對EPR pair"
   ]
  },
  {
   "cell_type": "code",
   "execution_count": 60,
   "id": "cd159602",
   "metadata": {},
   "outputs": [
    {
     "data": {
      "text/latex": [
       "$\\begin{alignedat}{9}&\\; \\;&\\;\\frac{\\sqrt{2}}{2}&|\\texttt{00}\\rangle \\;+&\\;\\frac{\\sqrt{2}}{2}&|\\texttt{11}\\rangle &\\end{alignedat}$"
      ],
      "text/plain": [
       "<IPython.core.display.Latex object>"
      ]
     },
     "execution_count": 60,
     "metadata": {},
     "output_type": "execute_result"
    }
   ],
   "source": [
    "# 建立一個2bits的量子電路\n",
    "circ_init = qc2(2)\n",
    "\n",
    "# 使兩對ground state的量子糾纏成EPR pair\n",
    "circ_init.h(0)\n",
    "circ_init.cx(0,1)\n",
    "\n",
    "# 將ground state放入電路取得EPR pair\n",
    "state_EPR = sv2(circ_init)\n",
    "\n",
    "# 顯示出state_EPR,確認其為EPR pair\n",
    "state_EPR.show_state()"
   ]
  },
  {
   "attachments": {},
   "cell_type": "markdown",
   "id": "239d22ad",
   "metadata": {},
   "source": [
    "顯示此時整個量子系統的狀態"
   ]
  },
  {
   "cell_type": "code",
   "execution_count": 61,
   "id": "d5d92923",
   "metadata": {},
   "outputs": [
    {
     "data": {
      "text/latex": [
       "$\\begin{alignedat}{9}&\\; \\;&\\;0.471409634196383&|\\texttt{000}\\rangle \\;+&\\;0.471409634196383&|\\texttt{011}\\rangle \\;+&\\;0.527041703081295&|\\texttt{100}\\rangle \\;+&\\;0.527041703081295&|\\texttt{111}\\rangle &\\end{alignedat}$"
      ],
      "text/plain": [
       "<IPython.core.display.Latex object>"
      ]
     },
     "execution_count": 61,
     "metadata": {},
     "output_type": "execute_result"
    }
   ],
   "source": [
    "# 將state_unknown與state_EPR結合為一3個qubit的物件\n",
    "state_before_teleport = state_unknown.expand(state_EPR)\n",
    "state_before_teleport.show_state()"
   ]
  },
  {
   "attachments": {},
   "cell_type": "markdown",
   "id": "f9659477",
   "metadata": {},
   "source": [
    "## 開始進行Quantum teleportation"
   ]
  },
  {
   "attachments": {},
   "cell_type": "markdown",
   "id": "8ea17d76",
   "metadata": {},
   "source": [
    "Alice對手中的未知量子與EPR pair的第一顆量子進行貝爾測量"
   ]
  },
  {
   "cell_type": "code",
   "execution_count": 62,
   "id": "db08626a",
   "metadata": {},
   "outputs": [
    {
     "data": {
      "text/latex": [
       "$\\begin{alignedat}{9}|\\texttt{00}\\rangle :&\\; \\;&\\;0.666673898113865&|\\texttt{0}\\rangle \\;+&\\;0.745349524433782&|\\texttt{1}\\rangle &\\\\\\\\|\\texttt{01}\\rangle :&\\; \\;&\\;0.745349524433782&|\\texttt{0}\\rangle \\;+&\\;0.666673898113865&|\\texttt{1}\\rangle &\\\\\\\\|\\texttt{10}\\rangle :&\\; \\;&\\;0.666673898113865&|\\texttt{0}\\rangle \\;-&\\;0.745349524433782&|\\texttt{1}\\rangle &\\\\\\\\|\\texttt{11}\\rangle :&\\; -&\\;0.745349524433782&|\\texttt{0}\\rangle \\;+&\\;0.666673898113865&|\\texttt{1}\\rangle &\\\\\\\\\\end{alignedat}$"
      ],
      "text/plain": [
       "<IPython.core.display.Latex object>"
      ]
     },
     "execution_count": 62,
     "metadata": {},
     "output_type": "execute_result"
    }
   ],
   "source": [
    "# 建立貝爾量測之電路\n",
    "circ_bell = qc2(3)\n",
    "circ_bell.cx(0,1)\n",
    "circ_bell.h(0)\n",
    "\n",
    "# 對qubits(0,1)進行貝爾量測,並將量測後可能的四種state存為一個list\n",
    "# list[0b00]=量測到|00>後的state, \n",
    "# list[0b01]=量測到|01>後的state, \n",
    "# ...\n",
    "list_state_after_measure = state_before_teleport.evolve(circ_bell).measure([0,1])\n",
    "\n",
    "# 顯示貝爾量測後可能的四種state\n",
    "# 顯示格式: (|00> 表示量測到的state, 冒號後表示【量測到|00>後剩餘的state】)\n",
    "# |00>: 1/2|0> + 1/2|1> ...\n",
    "state_before_teleport.evolve(circ_bell).show_measure([0,1])"
   ]
  },
  {
   "attachments": {},
   "cell_type": "markdown",
   "id": "abb925e8",
   "metadata": {},
   "source": [
    "## 根據貝爾量測結果進行修正"
   ]
  },
  {
   "attachments": {},
   "cell_type": "markdown",
   "id": "be786107",
   "metadata": {},
   "source": [
    "1. 如果Alice測量結果為00，則不需要修正"
   ]
  },
  {
   "cell_type": "code",
   "execution_count": 63,
   "id": "3947b010",
   "metadata": {},
   "outputs": [
    {
     "data": {
      "text/latex": [
       "$\\begin{alignedat}{9}&\\; \\;&\\;0.666673898113865&|\\texttt{0}\\rangle \\;+&\\;0.745349524433782&|\\texttt{1}\\rangle &\\end{alignedat}$"
      ],
      "text/plain": [
       "<IPython.core.display.Latex object>"
      ]
     },
     "execution_count": 63,
     "metadata": {},
     "output_type": "execute_result"
    }
   ],
   "source": [
    "state_after_teleport = list_state_after_measure[0b00]\n",
    "state_after_teleport.show_state(hide=[0,1])"
   ]
  },
  {
   "attachments": {},
   "cell_type": "markdown",
   "id": "4e3dfd8e",
   "metadata": {},
   "source": [
    "2. 如果Alice測量結果為01，則需要對Bob手中的量子進行X gate"
   ]
  },
  {
   "cell_type": "code",
   "execution_count": 64,
   "id": "4617dbe8",
   "metadata": {},
   "outputs": [
    {
     "data": {
      "text/latex": [
       "$\\begin{alignedat}{9}&\\; \\;&\\;0.666673898113865&|\\texttt{0}\\rangle \\;+&\\;0.745349524433782&|\\texttt{1}\\rangle &\\end{alignedat}$"
      ],
      "text/plain": [
       "<IPython.core.display.Latex object>"
      ]
     },
     "execution_count": 64,
     "metadata": {},
     "output_type": "execute_result"
    }
   ],
   "source": [
    "# 修正電路\n",
    "circ_correction = qc2(3)\n",
    "circ_correction.x(2)\n",
    "\n",
    "# 套用修正電路\n",
    "state_after_teleport = list_state_after_measure[0b01].evolve(circ_correction)\n",
    "state_after_teleport.show_state(hide=[0,1])"
   ]
  },
  {
   "attachments": {},
   "cell_type": "markdown",
   "id": "93c60218",
   "metadata": {},
   "source": [
    "3. 如果Alice測量結果為10，則需要對Bob手中的量子進行Z gate"
   ]
  },
  {
   "cell_type": "code",
   "execution_count": 65,
   "id": "4b877f77",
   "metadata": {},
   "outputs": [
    {
     "data": {
      "text/latex": [
       "$\\begin{alignedat}{9}&\\; \\;&\\;0.666673898113865&|\\texttt{0}\\rangle \\;+&\\;0.745349524433782&|\\texttt{1}\\rangle &\\end{alignedat}$"
      ],
      "text/plain": [
       "<IPython.core.display.Latex object>"
      ]
     },
     "execution_count": 65,
     "metadata": {},
     "output_type": "execute_result"
    }
   ],
   "source": [
    "# 修正電路\n",
    "circ_correction = qc2(3)\n",
    "circ_correction.z(2)\n",
    "\n",
    "# 套用修正電路\n",
    "state_after_teleport = list_state_after_measure[0b10].evolve(circ_correction)\n",
    "state_after_teleport.show_state(hide=[0,1])"
   ]
  },
  {
   "attachments": {},
   "cell_type": "markdown",
   "id": "8ea44402",
   "metadata": {},
   "source": [
    "4. 如果Alice測量結果為11，則需要對Bob手中的量子進行X gate與Z gate"
   ]
  },
  {
   "cell_type": "code",
   "execution_count": 66,
   "id": "113b16b5",
   "metadata": {},
   "outputs": [
    {
     "data": {
      "text/latex": [
       "$\\begin{alignedat}{9}&\\; \\;&\\;0.666673898113865&|\\texttt{0}\\rangle \\;+&\\;0.745349524433782&|\\texttt{1}\\rangle &\\end{alignedat}$"
      ],
      "text/plain": [
       "<IPython.core.display.Latex object>"
      ]
     },
     "execution_count": 66,
     "metadata": {},
     "output_type": "execute_result"
    }
   ],
   "source": [
    "# 修正電路\n",
    "circ_correction = qc2(3)\n",
    "circ_correction.x(2)\n",
    "circ_correction.z(2)\n",
    "\n",
    "# 套用修正電路\n",
    "state_after_teleport = list_state_after_measure[0b11].evolve(circ_correction)\n",
    "state_after_teleport.show_state(hide=[0,1])"
   ]
  }
 ],
 "metadata": {
  "kernelspec": {
   "display_name": "Python 3",
   "language": "python",
   "name": "python3"
  },
  "language_info": {
   "codemirror_mode": {
    "name": "ipython",
    "version": 3
   },
   "file_extension": ".py",
   "mimetype": "text/x-python",
   "name": "python",
   "nbconvert_exporter": "python",
   "pygments_lexer": "ipython3",
   "version": "3.11.0"
  },
  "vscode": {
   "interpreter": {
    "hash": "21d5eb4bc1609ce164bb28cebaa0a300109818a6cddcdd2ba4cfda914b0f1152"
   }
  }
 },
 "nbformat": 4,
 "nbformat_minor": 5
}
