{
 "cells": [
  {
   "attachments": {},
   "cell_type": "markdown",
   "metadata": {},
   "source": [
    "導入此module, 為方便使用與閱讀將模組名稱縮寫為qc2與sv2"
   ]
  },
  {
   "cell_type": "code",
   "execution_count": 14,
   "metadata": {},
   "outputs": [],
   "source": [
    "from qiskit_extension.quantum_circuit2 import QuantumCircuit2 as qc2\n",
    "from qiskit_extension.state_vector2 import StateVector2 as sv2"
   ]
  },
  {
   "attachments": {},
   "cell_type": "markdown",
   "metadata": {},
   "source": [
    "## 量子電路 QuantumCircuit2 基本操作\n",
    "QuantumCircuit2物件, 此物件用以建立量子電路、並僅用來操作StateVector2物件(模擬量子經過某電路後的state變化)"
   ]
  },
  {
   "attachments": {},
   "cell_type": "markdown",
   "metadata": {},
   "source": [
    "### 初始化一個2 qubit的量子電路"
   ]
  },
  {
   "cell_type": "code",
   "execution_count": 2,
   "metadata": {},
   "outputs": [],
   "source": [
    "circuit_EPR = qc2(2)"
   ]
  },
  {
   "attachments": {},
   "cell_type": "markdown",
   "metadata": {},
   "source": [
    "### 加入不同操作元件，並將其繪製出來"
   ]
  },
  {
   "cell_type": "code",
   "execution_count": 3,
   "metadata": {},
   "outputs": [
    {
     "data": {
      "image/png": "[encoded data removed]",
      "text/plain": [
       "<PIL.Image.Image image mode=RGB size=168x54>"
      ]
     },
     "execution_count": 3,
     "metadata": {},
     "output_type": "execute_result"
    }
   ],
   "source": [
    "# 1. 在qubit 0 的位置放入一個Hadamard gate\n",
    "circuit_EPR.h(0)\n",
    "\n",
    "# 2. 放入一個CNOT gate, 控制qubit為0, 目標qubit為1\n",
    "circuit_EPR.cx(0, 1)\n",
    "\n",
    "# 3. 繪製電路圖\n",
    "circuit_EPR.show_circ()"
   ]
  },
  {
   "attachments": {},
   "cell_type": "markdown",
   "metadata": {},
   "source": [
    "### to_matrix(): 將電路轉換成矩陣表示(此矩陣為量子電路的unitary matrix, 以np.array的形式儲存)"
   ]
  },
  {
   "cell_type": "code",
   "execution_count": 4,
   "metadata": {},
   "outputs": [
    {
     "data": {
      "text/plain": [
       "array([[ 0.70710678+0.j,  0.        +0.j,  0.70710678+0.j,\n",
       "         0.        +0.j],\n",
       "       [ 0.        +0.j,  0.70710678+0.j,  0.        +0.j,\n",
       "         0.70710678+0.j],\n",
       "       [ 0.        +0.j,  0.70710678+0.j,  0.        +0.j,\n",
       "        -0.70710678+0.j],\n",
       "       [ 0.70710678+0.j,  0.        +0.j, -0.70710678+0.j,\n",
       "         0.        +0.j]])"
      ]
     },
     "execution_count": 4,
     "metadata": {},
     "output_type": "execute_result"
    }
   ],
   "source": [
    "circuit_EPR.to_matrix()"
   ]
  },
  {
   "attachments": {},
   "cell_type": "markdown",
   "metadata": {},
   "source": [
    "### show_matrix(): 為方便檢視，將矩陣以latex的矩陣形式顯示"
   ]
  },
  {
   "cell_type": "code",
   "execution_count": 17,
   "metadata": {},
   "outputs": [
    {
     "data": {
      "text/latex": [
       "$\\frac{\\sqrt{2}}{2}\\begin{bmatrix}1&0&1&0\\\\[6pt]0&1&0&1\\\\[6pt]0&1&0&-1\\\\[6pt]1&0&-1&0\\\\[6pt]\\end{bmatrix}$"
      ],
      "text/plain": [
       "<IPython.core.display.Latex object>"
      ]
     },
     "execution_count": 17,
     "metadata": {},
     "output_type": "execute_result"
    }
   ],
   "source": [
    "circuit_EPR.show_matrix()"
   ]
  },
  {
   "attachments": {},
   "cell_type": "markdown",
   "metadata": {},
   "source": [
    "## StateVector2 基本操作\n",
    "StateVector2物件, 此物件用以保存量子的state vector, 並提供相關操作(如測量,放入量子電路得到新的state vector 等等)"
   ]
  },
  {
   "attachments": {},
   "cell_type": "markdown",
   "metadata": {},
   "source": [
    "### 呼叫from_label, 以符號建立一個sv2物件, 並用show_state()顯示此state"
   ]
  },
  {
   "cell_type": "code",
   "execution_count": 5,
   "metadata": {},
   "outputs": [
    {
     "data": {
      "text/latex": [
       "$\\begin{alignedat}{9}&\\; \\;&\\;&|\\texttt{00}\\rangle &\\end{alignedat}$"
      ],
      "text/plain": [
       "<IPython.core.display.Latex object>"
      ]
     },
     "execution_count": 5,
     "metadata": {},
     "output_type": "execute_result"
    }
   ],
   "source": [
    "# 建立一個|00>的state vector\n",
    "state00 = sv2.from_label('00')\n",
    "\n",
    "# 顯示出此sv2物件的狀態 \n",
    "state00.show_state()"
   ]
  },
  {
   "cell_type": "code",
   "execution_count": 20,
   "metadata": {},
   "outputs": [
    {
     "data": {
      "text/plain": [
       "'Statevector:\\n[[0.70710678+0.j],\\n [0.70710678+0.j]]'"
      ]
     },
     "execution_count": 20,
     "metadata": {},
     "output_type": "execute_result"
    }
   ],
   "source": [
    "# 建立state vector: 2( √2|0> + |+> - |-> )\n",
    "state_x0 = sv2.from_label((2**0.5,\"0\"),\"+\",(-1,\"-\"))\n",
    "\n",
    "# 顯示出此sv2物件的狀態\n",
    "state_x0.show_state()"
   ]
  },
  {
   "attachments": {},
   "cell_type": "markdown",
   "metadata": {},
   "source": [
    "### to_matrix(): 將state vector轉為矩陣"
   ]
  },
  {
   "cell_type": "code",
   "execution_count": 7,
   "metadata": {},
   "outputs": [
    {
     "data": {
      "text/plain": [
       "array([[1.+0.j],\n",
       "       [0.+0.j],\n",
       "       [0.+0.j],\n",
       "       [0.+0.j]])"
      ]
     },
     "execution_count": 7,
     "metadata": {},
     "output_type": "execute_result"
    }
   ],
   "source": [
    "state00.to_matrix()"
   ]
  },
  {
   "cell_type": "code",
   "execution_count": 8,
   "metadata": {},
   "outputs": [
    {
     "data": {
      "text/plain": [
       "array([[0.70710678+0.j],\n",
       "       [0.70710678+0.j]])"
      ]
     },
     "execution_count": 8,
     "metadata": {},
     "output_type": "execute_result"
    }
   ],
   "source": [
    "state_x0.to_matrix()"
   ]
  },
  {
   "attachments": {},
   "cell_type": "markdown",
   "metadata": {},
   "source": [
    "### show_matrix(): 為方便檢視，將矩陣以latex的矩陣形式顯示"
   ]
  },
  {
   "cell_type": "code",
   "execution_count": 18,
   "metadata": {},
   "outputs": [
    {
     "data": {
      "text/latex": [
       "$\\begin{bmatrix}1\\\\[6pt]0\\\\[6pt]0\\\\[6pt]0\\\\[6pt]\\end{bmatrix}$"
      ],
      "text/plain": [
       "<IPython.core.display.Latex object>"
      ]
     },
     "execution_count": 18,
     "metadata": {},
     "output_type": "execute_result"
    }
   ],
   "source": [
    "state00.show_matrix()"
   ]
  },
  {
   "cell_type": "code",
   "execution_count": 19,
   "metadata": {},
   "outputs": [
    {
     "data": {
      "text/latex": [
       "$\\frac{\\sqrt{2}}{2}\\begin{bmatrix}1\\\\[6pt]1\\\\[6pt]\\end{bmatrix}$"
      ],
      "text/plain": [
       "<IPython.core.display.Latex object>"
      ]
     },
     "execution_count": 19,
     "metadata": {},
     "output_type": "execute_result"
    }
   ],
   "source": [
    "state_x0.show_matrix()"
   ]
  },
  {
   "attachments": {},
   "cell_type": "markdown",
   "metadata": {},
   "source": [
    "### evolve(): 透過量子電路來演化state vector"
   ]
  },
  {
   "cell_type": "code",
   "execution_count": 9,
   "metadata": {},
   "outputs": [
    {
     "data": {
      "text/latex": [
       "$\\begin{alignedat}{9}&\\; \\;&\\;\\frac{\\sqrt{2}}{2}&|\\texttt{00}\\rangle \\;+&\\;\\frac{\\sqrt{2}}{2}&|\\texttt{11}\\rangle &\\end{alignedat}$"
      ],
      "text/plain": [
       "<IPython.core.display.Latex object>"
      ]
     },
     "execution_count": 9,
     "metadata": {},
     "output_type": "execute_result"
    }
   ],
   "source": [
    "# 將|00>經過EPR電路後的狀態\n",
    "state_EPR = state00.evolve(circuit_EPR)\n",
    "\n",
    "# 顯示出此sv2物件的狀態\n",
    "state_EPR.show_state()"
   ]
  },
  {
   "attachments": {},
   "cell_type": "markdown",
   "metadata": {},
   "source": [
    "### show_measure(): 進行測量, 並顯示測量結果以及對應之測量後的state"
   ]
  },
  {
   "cell_type": "code",
   "execution_count": 10,
   "metadata": {},
   "outputs": [
    {
     "data": {
      "text/latex": [
       "$\\begin{alignedat}{9}|\\texttt{0}\\rangle :&\\; \\;&\\;&|\\texttt{00}\\rangle &\\\\\\\\|\\texttt{1}\\rangle :&\\; \\;&\\;&|\\texttt{11}\\rangle &\\\\\\\\\\end{alignedat}$"
      ],
      "text/plain": [
       "<IPython.core.display.Latex object>"
      ]
     },
     "execution_count": 10,
     "metadata": {},
     "output_type": "execute_result"
    }
   ],
   "source": [
    "# 建立一個GHZ state\n",
    "state_GHZ = sv2.from_label(\"000\",\"111\")\n",
    "\n",
    "# 量測GHZ state的第一個qubit, 並顯示出結果\n",
    "state_GHZ.show_measure(0)"
   ]
  },
  {
   "attachments": {},
   "cell_type": "markdown",
   "metadata": {},
   "source": [
    "### measure(): 進行測量, 並回傳測量結果以及對應之測量後的state\n",
    "measure() 回傳值為一個list, 其中 \\\n",
    "list[0b00]=量測到|00>後的state (StateVector2物件), \\\n",
    "list[0b01]=量測到|01>後的state (StateVector2物件), \\\n",
    "..."
   ]
  },
  {
   "cell_type": "code",
   "execution_count": 11,
   "metadata": {},
   "outputs": [
    {
     "data": {
      "text/latex": [
       "$\\begin{alignedat}{9}&\\; \\;&\\;&|\\texttt{000}\\rangle &\\end{alignedat}$"
      ],
      "text/plain": [
       "<IPython.core.display.Latex object>"
      ]
     },
     "execution_count": 11,
     "metadata": {},
     "output_type": "execute_result"
    }
   ],
   "source": [
    "# 量測EPR pair的第一,二顆qubit後，將各種量測結果對應到的state vector存入一個list中\n",
    "list_after_measure_bit01 = state_GHZ.measure([0,1])\n",
    "\n",
    "# 顯示出量測到00的後state vector\n",
    "list_after_measure_bit01[0b00].show_state()"
   ]
  },
  {
   "cell_type": "code",
   "execution_count": 12,
   "metadata": {},
   "outputs": [
    {
     "data": {
      "text/plain": [
       "True"
      ]
     },
     "execution_count": 12,
     "metadata": {},
     "output_type": "execute_result"
    }
   ],
   "source": [
    "# 此為None, 因為GHZ量測第0,1顆qubit，不可能出現00的結果\n",
    "list_after_measure_bit01[0b01] is None"
   ]
  }
 ],
 "metadata": {
  "kernelspec": {
   "display_name": "Python 3",
   "language": "python",
   "name": "python3"
  },
  "language_info": {
   "codemirror_mode": {
    "name": "ipython",
    "version": 3
   },
   "file_extension": ".py",
   "mimetype": "text/x-python",
   "name": "python",
   "nbconvert_exporter": "python",
   "pygments_lexer": "ipython3",
   "version": "3.11.0"
  },
  "orig_nbformat": 4,
  "vscode": {
   "interpreter": {
    "hash": "21d5eb4bc1609ce164bb28cebaa0a300109818a6cddcdd2ba4cfda914b0f1152"
   }
  }
 },
 "nbformat": 4,
 "nbformat_minor": 2
}
