{
 "cells": [
  {
   "attachments": {},
   "cell_type": "markdown",
   "metadata": {},
   "source": [
    "Import this module, the module name will be abbreviated to qc2 and sv2 for ease of use and reading"
   ]
  },
  {
   "cell_type": "code",
   "execution_count": 16,
   "metadata": {},
   "outputs": [],
   "source": [
    "from qiskit_extension.quantum_circuit2 import QuantumCircuit2 as qc2\n",
    "from qiskit_extension.state_vector2 import StateVector2 as sv2"
   ]
  },
  {
   "attachments": {},
   "cell_type": "markdown",
   "metadata": {},
   "source": [
    "## QuantumCircuit2 Basic Operation\n",
    "The QuantumCircuit2 object is used to create a quantum circuit and only to operate the StateVector2 object (simulates the state change of a quantum after passing through a circuit)"
   ]
  },
  {
   "attachments": {},
   "cell_type": "markdown",
   "metadata": {},
   "source": [
    "### Initialize a 2 qubit quantum circuit"
   ]
  },
  {
   "cell_type": "code",
   "execution_count": 17,
   "metadata": {},
   "outputs": [],
   "source": [
    "circuit_EPR = qc2(2)"
   ]
  },
  {
   "attachments": {},
   "cell_type": "markdown",
   "metadata": {},
   "source": [
    "### Add different gate to the circuit, then draw the circuit"
   ]
  },
  {
   "cell_type": "code",
   "execution_count": 18,
   "metadata": {},
   "outputs": [
    {
     "data": {
      "image/png": "[encoded data removed]",
      "text/plain": [
       "<PIL.Image.Image image mode=RGB size=168x54>"
      ]
     },
     "execution_count": 18,
     "metadata": {},
     "output_type": "execute_result"
    }
   ],
   "source": [
    "# 1. put a Hadamard gate in the qubit 0 position\n",
    "circuit_EPR.h(0)\n",
    "\n",
    "# 2. put a CNOT gate, control qubit 0, target qubit 1\n",
    "circuit_EPR.cx(0, 1)\n",
    "\n",
    "# 3. draw the circuit\n",
    "circuit_EPR.show_circ()"
   ]
  },
  {
   "attachments": {},
   "cell_type": "markdown",
   "metadata": {},
   "source": [
    "### to_matrix(): Converts the circuit into a matrix (this matrix is the unitary matrix of the quantum circuit, stored in the form of np.array)"
   ]
  },
  {
   "cell_type": "code",
   "execution_count": 19,
   "metadata": {},
   "outputs": [
    {
     "data": {
      "text/plain": [
       "array([[ 0.70710678+0.j,  0.        +0.j,  0.70710678+0.j,\n",
       "         0.        +0.j],\n",
       "       [ 0.        +0.j,  0.70710678+0.j,  0.        +0.j,\n",
       "         0.70710678+0.j],\n",
       "       [ 0.        +0.j,  0.70710678+0.j,  0.        +0.j,\n",
       "        -0.70710678+0.j],\n",
       "       [ 0.70710678+0.j,  0.        +0.j, -0.70710678+0.j,\n",
       "         0.        +0.j]])"
      ]
     },
     "execution_count": 19,
     "metadata": {},
     "output_type": "execute_result"
    }
   ],
   "source": [
    "circuit_EPR.to_matrix()"
   ]
  },
  {
   "attachments": {},
   "cell_type": "markdown",
   "metadata": {},
   "source": [
    "### show_matrix(): Turn the matrix ( from to_matrix() ) into a more readable form"
   ]
  },
  {
   "cell_type": "code",
   "execution_count": 20,
   "metadata": {},
   "outputs": [
    {
     "data": {
      "text/latex": [
       "$\\frac{\\sqrt{2}}{2}\\begin{bmatrix}1&0&1&0\\\\[6pt]0&1&0&1\\\\[6pt]0&1&0&-1\\\\[6pt]1&0&-1&0\\\\[6pt]\\end{bmatrix}$"
      ],
      "text/plain": [
       "<IPython.core.display.Latex object>"
      ]
     },
     "execution_count": 20,
     "metadata": {},
     "output_type": "execute_result"
    }
   ],
   "source": [
    "circuit_EPR.show_matrix()"
   ]
  },
  {
   "attachments": {},
   "cell_type": "markdown",
   "metadata": {},
   "source": [
    "## StateVector2 basic operations\n",
    "StateVector2 object, store state vector and provides related operations (such as measuring, putting in a quantum circuit to get a new state vector, etc.)"
   ]
  },
  {
   "attachments": {},
   "cell_type": "markdown",
   "metadata": {},
   "source": [
    "### from_label(): Create an sv2 object with a symbol, and display the state with show_state()"
   ]
  },
  {
   "cell_type": "code",
   "execution_count": 21,
   "metadata": {},
   "outputs": [
    {
     "data": {
      "text/latex": [
       "$\\begin{alignedat}{9}&\\; \\;&\\;&|\\texttt{00}\\rangle &\\end{alignedat}$"
      ],
      "text/plain": [
       "<IPython.core.display.Latex object>"
      ]
     },
     "execution_count": 21,
     "metadata": {},
     "output_type": "execute_result"
    }
   ],
   "source": [
    "# Create a state vector of |00>\n",
    "state00 = sv2.from_label('00')\n",
    "\n",
    "# Show the state of this sv2 object \n",
    "state00.show_state()"
   ]
  },
  {
   "cell_type": "code",
   "execution_count": 22,
   "metadata": {},
   "outputs": [
    {
     "data": {
      "text/latex": [
       "$\\begin{alignedat}{9}&\\; \\;&\\;\\frac{\\sqrt{2}}{2}&|\\texttt{0}\\rangle \\;+&\\;\\frac{\\sqrt{2}}{2}&|\\texttt{1}\\rangle &\\end{alignedat}$"
      ],
      "text/plain": [
       "<IPython.core.display.Latex object>"
      ]
     },
     "execution_count": 22,
     "metadata": {},
     "output_type": "execute_result"
    }
   ],
   "source": [
    "# Create state vector: 2( √2|0> + |+> - |-> )\n",
    "state_x0 = sv2.from_label((2**0.5, \"0\"), \"+\",(-1,\"-\"))\n",
    "\n",
    "# Show the state of this sv2 object\n",
    "state_x0.show_state()"
   ]
  },
  {
   "attachments": {},
   "cell_type": "markdown",
   "metadata": {},
   "source": [
    "### to_matrix(): convert state vector to matrix"
   ]
  },
  {
   "cell_type": "code",
   "execution_count": 23,
   "metadata": {},
   "outputs": [
    {
     "data": {
      "text/plain": [
       "array([[1.+0.j],\n",
       "       [0.+0.j],\n",
       "       [0.+0.j],\n",
       "       [0.+0.j]])"
      ]
     },
     "execution_count": 23,
     "metadata": {},
     "output_type": "execute_result"
    }
   ],
   "source": [
    "state00.to_matrix()"
   ]
  },
  {
   "cell_type": "code",
   "execution_count": 24,
   "metadata": {},
   "outputs": [
    {
     "data": {
      "text/plain": [
       "array([[0.70710678+0.j],\n",
       "       [0.70710678+0.j]])"
      ]
     },
     "execution_count": 24,
     "metadata": {},
     "output_type": "execute_result"
    }
   ],
   "source": [
    "state_x0.to_matrix()"
   ]
  },
  {
   "attachments": {},
   "cell_type": "markdown",
   "metadata": {},
   "source": [
    "### show_matrix(): displays the matrix as a latex matrix"
   ]
  },
  {
   "cell_type": "code",
   "execution_count": 25,
   "metadata": {},
   "outputs": [
    {
     "data": {
      "text/latex": [
       "$\\begin{bmatrix}1\\\\[6pt]0\\\\[6pt]0\\\\[6pt]0\\\\[6pt]\\end{bmatrix}$"
      ],
      "text/plain": [
       "<IPython.core.display.Latex object>"
      ]
     },
     "execution_count": 25,
     "metadata": {},
     "output_type": "execute_result"
    }
   ],
   "source": [
    "state00.show_matrix()"
   ]
  },
  {
   "cell_type": "code",
   "execution_count": 26,
   "metadata": {},
   "outputs": [
    {
     "data": {
      "text/latex": [
       "$\\frac{\\sqrt{2}}{2}\\begin{bmatrix}1\\\\[6pt]1\\\\[6pt]\\end{bmatrix}$"
      ],
      "text/plain": [
       "<IPython.core.display.Latex object>"
      ]
     },
     "execution_count": 26,
     "metadata": {},
     "output_type": "execute_result"
    }
   ],
   "source": [
    "state_x0.show_matrix()"
   ]
  },
  {
   "attachments": {},
   "cell_type": "markdown",
   "metadata": {},
   "source": [
    "### evolve(): evolve state vector by quantum circuit"
   ]
  },
  {
   "cell_type": "code",
   "execution_count": 27,
   "metadata": {},
   "outputs": [
    {
     "data": {
      "text/latex": [
       "$\\begin{alignedat}{9}&\\; \\;&\\;\\frac{\\sqrt{2}}{2}&|\\texttt{00}\\rangle \\;+&\\;\\frac{\\sqrt{2}}{2}&|\\texttt{11}\\rangle &\\end{alignedat}$"
      ],
      "text/plain": [
       "<IPython.core.display.Latex object>"
      ]
     },
     "execution_count": 27,
     "metadata": {},
     "output_type": "execute_result"
    }
   ],
   "source": [
    "# The state of |00> after the EPR circuit\n",
    "state_EPR = state00.evolve(circuit_EPR)\n",
    "\n",
    "# Show the state of this sv2 object\n",
    "state_EPR.show_state()"
   ]
  },
  {
   "attachments": {},
   "cell_type": "markdown",
   "metadata": {},
   "source": [
    "### show_measure(): Perform the measurement, and display the measurement result and the corresponding post-measurement state"
   ]
  },
  {
   "cell_type": "code",
   "execution_count": 28,
   "metadata": {},
   "outputs": [
    {
     "data": {
      "text/latex": [
       "$\\begin{alignedat}{9}|\\texttt{0}\\rangle :&\\; \\;&\\;&|\\texttt{00}\\rangle &\\\\\\\\|\\texttt{1}\\rangle :&\\; \\;&\\;&|\\texttt{11}\\rangle &\\\\\\\\\\end{alignedat}$"
      ],
      "text/plain": [
       "<IPython.core.display.Latex object>"
      ]
     },
     "execution_count": 28,
     "metadata": {},
     "output_type": "execute_result"
    }
   ],
   "source": [
    "# Create a GHZ state\n",
    "state_GHZ = sv2.from_label(\"000\", \"111\")\n",
    "\n",
    "# Measure the first qubit of the GHZ state, and display the result\n",
    "state_GHZ.show_measure(0)"
   ]
  },
  {
   "attachments": {},
   "cell_type": "markdown",
   "metadata": {},
   "source": [
    "### measure(): performs the measurement, and returns the measurement result and the corresponding post-measurement state\n",
    "measure() returns the value as a list, where \\\n",
    "list[0b00] = state (StateVector2 object) after measure, and the measurement result = 00, \\\n",
    "list[0b01] = state (StateVector2 object) after measure, and the measurement result = 01, \\\n",
    "..."
   ]
  },
  {
   "cell_type": "code",
   "execution_count": 29,
   "metadata": {},
   "outputs": [
    {
     "data": {
      "text/latex": [
       "$\\begin{alignedat}{9}&\\; \\;&\\;&|\\texttt{000}\\rangle &\\end{alignedat}$"
      ],
      "text/plain": [
       "<IPython.core.display.Latex object>"
      ]
     },
     "execution_count": 29,
     "metadata": {},
     "output_type": "execute_result"
    }
   ],
   "source": [
    "# After measuring the first and second qubits of the EPR pair, the state vector corresponding to each measurement result is stored in a list\n",
    "list_after_measure_bit01 = state_GHZ.measure([0,1])\n",
    "\n",
    "# Show the state vector after measured and the measurement result = 00\n",
    "list_after_measure_bit01[0b00].show_state()"
   ]
  },
  {
   "cell_type": "code",
   "execution_count": 30,
   "metadata": {},
   "outputs": [
    {
     "data": {
      "text/plain": [
       "True"
      ]
     },
     "execution_count": 30,
     "metadata": {},
     "output_type": "execute_result"
    }
   ],
   "source": [
    "# This is None, because the GHZ measurement of the 0,1 qubit, the result of 00 is not possible\n",
    "list_after_measure_bit01[0b01] is None"
   ]
  },
  {
   "attachments": {},
   "cell_type": "markdown",
   "metadata": {},
   "source": [
    "## X,Y basis operations\n",
    "### Display state vector with different basis"
   ]
  },
  {
   "cell_type": "code",
   "execution_count": 31,
   "metadata": {},
   "outputs": [
    {
     "data": {
      "text/latex": [
       "$\\begin{alignedat}{9}&\\; \\;&\\;&|\\texttt{+}\\rangle &\\end{alignedat}$"
      ],
      "text/plain": [
       "<IPython.core.display.Latex object>"
      ]
     },
     "execution_count": 31,
     "metadata": {},
     "output_type": "execute_result"
    }
   ],
   "source": [
    "# show_state() preset to show state in z-basis\n",
    "state_x0.show_state() # 1/√2(|0>+|1>)\n",
    "\n",
    "# Show state with X basis\n",
    "state_x0.show_state(basis='x') # |+>\n",
    "\n",
    "# Automatically determine the basis (show the basis with the smallest entropy)\n",
    "state_x0.show_state(basis=\"\") # |+>"
   ]
  },
  {
   "attachments": {},
   "cell_type": "markdown",
   "metadata": {},
   "source": [
    "### Measure the state vector with different basis"
   ]
  },
  {
   "cell_type": "code",
   "execution_count": 32,
   "metadata": {},
   "outputs": [
    {
     "data": {
      "text/latex": [
       "$\\begin{alignedat}{9}|\\texttt{+}\\rangle :&\\; \\;&\\;\\frac{\\sqrt{2}}{2}&|\\texttt{00}\\rangle \\;+&\\;\\frac{\\sqrt{2}}{2}&|\\texttt{11}\\rangle &\\\\\\\\|\\texttt{-}\\rangle :&\\; \\;&\\;\\frac{\\sqrt{2}}{2}&|\\texttt{00}\\rangle \\;-&\\; \\frac{\\sqrt{2}}{2}&|\\texttt{11}\\rangle &\\\\\\\\\\end{alignedat}$"
      ],
      "text/plain": [
       "<IPython.core.display.Latex object>"
      ]
     },
     "execution_count": 32,
     "metadata": {},
     "output_type": "execute_result"
    }
   ],
   "source": [
    "# measure() / show_measure() preset to measure in Z basis\n",
    "state_GHZ.show_measure(0)  # |0>: |00>, |1>: |11>\n",
    "\n",
    "# Measure in X basis\n",
    "state_GHZ.show_measure(0, basis='x')  # |+>: 1/√2(|00>+|11>), |->: 1/√2(|00>-|11>)"
   ]
  }
 ],
 "metadata": {
  "kernelspec": {
   "display_name": "Python 3",
   "language": "python",
   "name": "python3"
  },
  "language_info": {
   "codemirror_mode": {
    "name": "ipython",
    "version": 3
   },
   "file_extension": ".py",
   "mimetype": "text/x-python",
   "name": "python",
   "nbconvert_exporter": "python",
   "pygments_lexer": "ipython3",
   "version": "3.10.8 (tags/v3.10.8:aaaf517, Oct 11 2022, 16:50:30) [MSC v.1933 64 bit (AMD64)]"
  },
  "orig_nbformat": 4,
  "vscode": {
   "interpreter": {
    "hash": "fb4569285eef3a3450cb62085a5b1e0da4bce0af555edc33dcf29baf3acc1368"
   }
  }
 },
 "nbformat": 4,
 "nbformat_minor": 2
}
