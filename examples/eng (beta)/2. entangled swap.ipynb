{
 "cells": [
  {
   "cell_type": "code",
   "execution_count": 1,
   "id": "ed236ddd",
   "metadata": {},
   "outputs": [],
   "source": [
    "import math\n",
    "\n",
    "from qiskit_extension.quantum_circuit2 import QuantumCircuit2 as qc2\n",
    "from qiskit_extension.state_vector2 import StateVector2 as sv2"
   ]
  },
  {
   "attachments": {},
   "cell_type": "markdown",
   "id": "38130547",
   "metadata": {},
   "source": [
    "## Initialize two EPR pairs"
   ]
  },
  {
   "cell_type": "code",
   "execution_count": 2,
   "id": "3b17221b-e350-4bfa-baab-57a8f39ea832",
   "metadata": {},
   "outputs": [
    {
     "data": {
      "image/png": "[encoded data removed]",
      "text/plain": [
       "<PIL.Image.Image image mode=RGB size=168x115>"
      ]
     },
     "execution_count": 2,
     "metadata": {},
     "output_type": "execute_result"
    }
   ],
   "source": [
    "# Create a 4bits quantum circuit\n",
    "circ_init = qc2(4)\n",
    "\n",
    "# Make ground state qubit(0,1) and qubit(2,3) entangled into two EPR pairs\n",
    "circ_init.h([0,2])\n",
    "circ_init.cx([0,2],[1,3])\n",
    "\n",
    "# Display the circuit\n",
    "circ_init.show_circ()"
   ]
  },
  {
   "cell_type": "code",
   "execution_count": 3,
   "id": "fad86736",
   "metadata": {},
   "outputs": [
    {
     "data": {
      "text/latex": [
       "$\\begin{alignedat}{9}&\\; \\;&\\;\\frac{1}{2}&|\\texttt{0000}\\rangle \\;+&\\;\\frac{1}{2}&|\\texttt{0011}\\rangle \\;+&\\;\\frac{1}{2}&|\\texttt{1100}\\rangle \\;+&\\;\\frac{1}{2}&|\\texttt{1111}\\rangle &\\end{alignedat}$"
      ],
      "text/plain": [
       "<IPython.core.display.Latex object>"
      ]
     },
     "execution_count": 3,
     "metadata": {},
     "output_type": "execute_result"
    }
   ],
   "source": [
    "# Put the ground state into the circuit we build in previous step, and get two EPR pairs\n",
    "state_EPR = sv2(circ_init)\n",
    "\n",
    "# Show state\n",
    "state_EPR.show_state()"
   ]
  },
  {
   "attachments": {},
   "cell_type": "markdown",
   "id": "03c8773e",
   "metadata": {},
   "source": [
    "## Perform entangled swap ; Perform Bell measurement on qubits(2,3)"
   ]
  },
  {
   "cell_type": "code",
   "execution_count": 7,
   "id": "00281df6",
   "metadata": {},
   "outputs": [
    {
     "data": {
      "text/latex": [
       "$\\begin{alignedat}{9}|\\texttt{00}\\rangle :&\\; \\;&\\;\\frac{\\sqrt{2}}{2}&|\\texttt{00}\\rangle \\;+&\\;\\frac{\\sqrt{2}}{2}&|\\texttt{11}\\rangle &\\\\\\\\|\\texttt{01}\\rangle :&\\; \\;&\\;\\frac{\\sqrt{2}}{2}&|\\texttt{01}\\rangle \\;+&\\;\\frac{\\sqrt{2}}{2}&|\\texttt{10}\\rangle &\\\\\\\\|\\texttt{10}\\rangle :&\\; \\;&\\;\\frac{\\sqrt{2}}{2}&|\\texttt{00}\\rangle \\;-&\\; \\frac{\\sqrt{2}}{2}&|\\texttt{11}\\rangle &\\\\\\\\|\\texttt{11}\\rangle :&\\; \\;&\\;\\frac{\\sqrt{2}}{2}&|\\texttt{01}\\rangle \\;-&\\; \\frac{\\sqrt{2}}{2}&|\\texttt{10}\\rangle &\\\\\\\\\\end{alignedat}$"
      ],
      "text/plain": [
       "<IPython.core.display.Latex object>"
      ]
     },
     "execution_count": 7,
     "metadata": {},
     "output_type": "execute_result"
    }
   ],
   "source": [
    "circ_Bell_measure = qc2(4)\n",
    "circ_Bell_measure.cx(1,2)\n",
    "circ_Bell_measure.h(1)\n",
    "\n",
    "# Bell measurement on qubits(1,2), and store the four possible states as a list after measurement\n",
    "# list[0b00]=state after measurement result is 00, \n",
    "# list[0b01]=state after measurement result is 01, \n",
    "# ...\n",
    "list_state_EPR_after_Bell_measure = state_EPR.evolve(circ_Bell_measure).measure([1,2])\n",
    "\n",
    "# Show the four possible states after the Bell measurement\n",
    "# Display format: (|00> indicates the measured state, followed by a colon indicating [the remaining state after measurement result is 00])\n",
    "# |00>: 1/2|0> + 1/2|1> ...\n",
    "state_EPR.evolve(circ_Bell_measure).show_measure([1,2])"
   ]
  },
  {
   "attachments": {},
   "cell_type": "markdown",
   "id": "a1d0abc1",
   "metadata": {},
   "source": [
    "Take measurement result is 01 for example: perform correction on qubits(0,3)"
   ]
  },
  {
   "cell_type": "code",
   "execution_count": 9,
   "id": "9da972f3",
   "metadata": {},
   "outputs": [
    {
     "data": {
      "text/latex": [
       "$\\begin{alignedat}{9}&\\; \\;&\\;\\frac{\\sqrt{2}}{2}&|\\texttt{01}\\rangle \\;+&\\;\\frac{\\sqrt{2}}{2}&|\\texttt{10}\\rangle &\\end{alignedat}$"
      ],
      "text/plain": [
       "<IPython.core.display.Latex object>"
      ]
     },
     "execution_count": 9,
     "metadata": {},
     "output_type": "execute_result"
    }
   ],
   "source": [
    "# Get the state after measuring, and the measurement result is 01\n",
    "state_before_correction = list_state_EPR_after_Bell_measure[0b01]\n",
    "\n",
    "# Show the state before correction\n",
    "state_before_correction.show_state(hide=[1,2])"
   ]
  },
  {
   "cell_type": "code",
   "execution_count": 12,
   "id": "c532a49d",
   "metadata": {},
   "outputs": [
    {
     "data": {
      "text/latex": [
       "$\\begin{alignedat}{9}&\\; \\;&\\;\\frac{\\sqrt{2}}{2}&|\\texttt{00}\\rangle \\;+&\\;\\frac{\\sqrt{2}}{2}&|\\texttt{11}\\rangle &\\end{alignedat}$"
      ],
      "text/plain": [
       "<IPython.core.display.Latex object>"
      ]
     },
     "execution_count": 12,
     "metadata": {},
     "output_type": "execute_result"
    }
   ],
   "source": [
    "# Correction circuit (measurement result is 01, so perform Pauli-X on qubit 3)\n",
    "circ_correction = qc2(4)\n",
    "circ_correction.x(3)\n",
    "\n",
    "# Put state_before_correction into the correction circuit, get the state after correction\n",
    "state_after_correction = state_before_correction.evolve(circ_correction)\n",
    "\n",
    "# Show corrected state, make sure that entangled swap successful\n",
    "state_after_correction.show_state(hide=[1,2])"
   ]
  }
 ],
 "metadata": {
  "kernelspec": {
   "display_name": "Python 3",
   "language": "python",
   "name": "python3"
  },
  "language_info": {
   "codemirror_mode": {
    "name": "ipython",
    "version": 3
   },
   "file_extension": ".py",
   "mimetype": "text/x-python",
   "name": "python",
   "nbconvert_exporter": "python",
   "pygments_lexer": "ipython3",
   "version": "3.11.0 | packaged by conda-forge | (main, Oct 25 2022, 06:12:32) [MSC v.1929 64 bit (AMD64)]"
  },
  "vscode": {
   "interpreter": {
    "hash": "e2cd0a250cfa25f3ac5ae91210420f25be49ff779442a894d282e8ed2152fb14"
   }
  }
 },
 "nbformat": 4,
 "nbformat_minor": 5
}
