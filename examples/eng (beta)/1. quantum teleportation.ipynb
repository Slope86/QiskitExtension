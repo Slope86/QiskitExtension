{
 "cells": [
  {
   "cell_type": "code",
   "execution_count": 58,
   "id": "ed236ddd",
   "metadata": {},
   "outputs": [],
   "source": [
    "import math\n",
    "import random\n",
    "\n",
    "from qiskit_extension.quantum_circuit2 import QuantumCircuit2 as qc2\n",
    "from qiskit_extension.state_vector2 import StateVector2 as sv2"
   ]
  },
  {
   "attachments": {},
   "cell_type": "markdown",
   "id": "38130547",
   "metadata": {},
   "source": [
    "# Quantum teleportation\n",
    "## Preparation\n",
    "Initialize the unknown quantum states Alice wants to teleport"
   ]
  },
  {
   "cell_type": "code",
   "execution_count": 59,
   "id": "6f5629a9",
   "metadata": {},
   "outputs": [
    {
     "data": {
      "text/latex": [
       "$\\begin{alignedat}{9}&\\; \\;&\\;0.666673898113865&|\\texttt{0}\\rangle \\;+&\\;0.745349524433782&|\\texttt{1}\\rangle &\\end{alignedat}$"
      ],
      "text/plain": [
       "<IPython.core.display.Latex object>"
      ]
     },
     "execution_count": 59,
     "metadata": {},
     "output_type": "execute_result"
    }
   ],
   "source": [
    "state_unknown = sv2.from_label((random.random(), \"0\"), (random.random(), \"1\"))\n",
    "state_unknown.show_state()"
   ]
  },
  {
   "attachments": {},
   "cell_type": "markdown",
   "id": "b96f2ccc",
   "metadata": {},
   "source": [
    "Let Alice and Bob share an EPR pair"
   ]
  },
  {
   "cell_type": "code",
   "execution_count": 60,
   "id": "cd159602",
   "metadata": {},
   "outputs": [
    {
     "data": {
      "text/latex": [
       "$\\begin{alignedat}{9}&\\; \\;&\\;\\frac{\\sqrt{2}}{2}&|\\texttt{00}\\rangle \\;+&\\;\\frac{\\sqrt{2}}{2}&|\\texttt{11}\\rangle &\\end{alignedat}$"
      ],
      "text/plain": [
       "<IPython.core.display.Latex object>"
      ]
     },
     "execution_count": 60,
     "metadata": {},
     "output_type": "execute_result"
    }
   ],
   "source": [
    "# Create a 2bits quantum circuit\n",
    "circ_init = qc2(2)\n",
    "\n",
    "# Entangle two ground state qubits to an EPR pair\n",
    "circ_init.h(0)\n",
    "circ_init.cx(0,1)\n",
    "\n",
    "# Put the ground state into the circuit to get the EPR pair\n",
    "state_EPR = sv2(circ_init)\n",
    "\n",
    "# Show state_EPR, confirm it is EPR pair\n",
    "state_EPR.show_state()"
   ]
  },
  {
   "attachments": {},
   "cell_type": "markdown",
   "id": "239d22ad",
   "metadata": {},
   "source": [
    "Shows the state of this 3-qubits"
   ]
  },
  {
   "cell_type": "code",
   "execution_count": 61,
   "id": "d5d92923",
   "metadata": {},
   "outputs": [
    {
     "data": {
      "text/latex": [
       "$\\begin{alignedat}{9}&\\; \\;&\\;0.471409634196383&|\\texttt{000}\\rangle \\;+&\\;0.471409634196383&|\\texttt{011}\\rangle \\;+&\\;0.527041703081295&|\\texttt{100}\\rangle \\;+&\\;0.527041703081295&|\\texttt{111}\\rangle &\\end{alignedat}$"
      ],
      "text/plain": [
       "<IPython.core.display.Latex object>"
      ]
     },
     "execution_count": 61,
     "metadata": {},
     "output_type": "execute_result"
    }
   ],
   "source": [
    "# Combined state_unknown and state_EPR into a 3-qubit sv2 object\n",
    "state_before_teleport = state_unknown.expand(state_EPR)\n",
    "state_before_teleport.show_state()"
   ]
  },
  {
   "attachments": {},
   "cell_type": "markdown",
   "id": "f9659477",
   "metadata": {},
   "source": [
    "## Start Quantum teleportation\n",
    "Alice performs Bell measurement on the first qubit of the EPR pair and the unknown qubit"
   ]
  },
  {
   "cell_type": "code",
   "execution_count": 62,
   "id": "db08626a",
   "metadata": {},
   "outputs": [
    {
     "data": {
      "text/latex": [
       "$\\begin{alignedat}{9}|\\texttt{00}\\rangle :&\\; \\;&\\;0.666673898113865&|\\texttt{0}\\rangle \\;+&\\;0.745349524433782&|\\texttt{1}\\rangle &\\\\\\\\|\\texttt{01}\\rangle :&\\; \\;&\\;0.745349524433782&|\\texttt{0}\\rangle \\;+&\\;0.666673898113865&|\\texttt{1}\\rangle &\\\\\\\\|\\texttt{10}\\rangle :&\\; \\;&\\;0.666673898113865&|\\texttt{0}\\rangle \\;-&\\;0.745349524433782&|\\texttt{1}\\rangle &\\\\\\\\|\\texttt{11}\\rangle :&\\; -&\\;0.745349524433782&|\\texttt{0}\\rangle \\;+&\\;0.666673898113865&|\\texttt{1}\\rangle &\\\\\\\\\\end{alignedat}$"
      ],
      "text/plain": [
       "<IPython.core.display.Latex object>"
      ]
     },
     "execution_count": 62,
     "metadata": {},
     "output_type": "execute_result"
    }
   ],
   "source": [
    "# Create the circuit for Bell measurement\n",
    "circ_bell = qc2(3)\n",
    "circ_bell.cx(0,1)\n",
    "circ_bell.h(0)\n",
    "\n",
    "# Bell measurement on qubits(0,1), and store the four possible states as a list after measurement\n",
    "# list[0b00]=state after measurement result is 00, \n",
    "# list[0b01]=state after measurement result is 01, \n",
    "# ...\n",
    "list_state_after_measure = state_before_teleport.evolve(circ_bell).measure([0,1])\n",
    "\n",
    "# Show the four possible states after the Bell measurement\n",
    "# Display format: (|00> indicates the measured state, followed by a colon indicating [the remaining state after measurement result is 00])\n",
    "# |00>: 1/2|0> + 1/2|1> ...\n",
    "state_before_teleport.evolve(circ_bell).show_measure([0,1])"
   ]
  },
  {
   "attachments": {},
   "cell_type": "markdown",
   "id": "abb925e8",
   "metadata": {},
   "source": [
    "## Correction according to Bell measurement result\n",
    "1. If Alice measurement result is 00, no correction is needed."
   ]
  },
  {
   "cell_type": "code",
   "execution_count": 63,
   "id": "3947b010",
   "metadata": {},
   "outputs": [
    {
     "data": {
      "text/latex": [
       "$\\begin{alignedat}{9}&\\; \\;&\\;0.666673898113865&|\\texttt{0}\\rangle \\;+&\\;0.745349524433782&|\\texttt{1}\\rangle &\\end{alignedat}$"
      ],
      "text/plain": [
       "<IPython.core.display.Latex object>"
      ]
     },
     "execution_count": 63,
     "metadata": {},
     "output_type": "execute_result"
    }
   ],
   "source": [
    "state_after_teleport = list_state_after_measure[0b00]\n",
    "state_after_teleport.show_state(hide=[0,1])"
   ]
  },
  {
   "attachments": {},
   "cell_type": "markdown",
   "id": "4e3dfd8e",
   "metadata": {},
   "source": [
    "2. If Alice's measurement result is 01, then Bob need to perform Pauli-X on his qubit."
   ]
  },
  {
   "cell_type": "code",
   "execution_count": 64,
   "id": "4617dbe8",
   "metadata": {},
   "outputs": [
    {
     "data": {
      "text/latex": [
       "$\\begin{alignedat}{9}&\\; \\;&\\;0.666673898113865&|\\texttt{0}\\rangle \\;+&\\;0.745349524433782&|\\texttt{1}\\rangle &\\end{alignedat}$"
      ],
      "text/plain": [
       "<IPython.core.display.Latex object>"
      ]
     },
     "execution_count": 64,
     "metadata": {},
     "output_type": "execute_result"
    }
   ],
   "source": [
    "# Correction circuit\n",
    "circ_correction = qc2(3)\n",
    "circ_correction.x(2)\n",
    "\n",
    "# Applying the correction circuit\n",
    "state_after_teleport = list_state_after_measure[0b01].evolve(circ_correction)\n",
    "state_after_teleport.show_state(hide=[0,1])"
   ]
  },
  {
   "attachments": {},
   "cell_type": "markdown",
   "id": "93c60218",
   "metadata": {},
   "source": [
    "2. If Alice's measurement result is 01, then Bob need to perform Pauli-Z on his qubit."
   ]
  },
  {
   "cell_type": "code",
   "execution_count": 65,
   "id": "4b877f77",
   "metadata": {},
   "outputs": [
    {
     "data": {
      "text/latex": [
       "$\\begin{alignedat}{9}&\\; \\;&\\;0.666673898113865&|\\texttt{0}\\rangle \\;+&\\;0.745349524433782&|\\texttt{1}\\rangle &\\end{alignedat}$"
      ],
      "text/plain": [
       "<IPython.core.display.Latex object>"
      ]
     },
     "execution_count": 65,
     "metadata": {},
     "output_type": "execute_result"
    }
   ],
   "source": [
    "# Correction circuit\n",
    "circ_correction = qc2(3)\n",
    "circ_correction.z(2)\n",
    "\n",
    "# Applying the correction circuit\n",
    "state_after_teleport = list_state_after_measure[0b10].evolve(circ_correction)\n",
    "state_after_teleport.show_state(hide=[0,1])"
   ]
  },
  {
   "attachments": {},
   "cell_type": "markdown",
   "id": "8ea44402",
   "metadata": {},
   "source": [
    "2. If Alice's measurement result is 01, then Bob need to perform Pauli-X and Pauli-Z on his qubit."
   ]
  },
  {
   "cell_type": "code",
   "execution_count": 66,
   "id": "113b16b5",
   "metadata": {},
   "outputs": [
    {
     "data": {
      "text/latex": [
       "$\\begin{alignedat}{9}&\\; \\;&\\;0.666673898113865&|\\texttt{0}\\rangle \\;+&\\;0.745349524433782&|\\texttt{1}\\rangle &\\end{alignedat}$"
      ],
      "text/plain": [
       "<IPython.core.display.Latex object>"
      ]
     },
     "execution_count": 66,
     "metadata": {},
     "output_type": "execute_result"
    }
   ],
   "source": [
    "# Correction circuit\n",
    "circ_correction = qc2(3)\n",
    "circ_correction.x(2)\n",
    "circ_correction.z(2)\n",
    "\n",
    "# Applying the correction circuit\n",
    "state_after_teleport = list_state_after_measure[0b11].evolve(circ_correction)\n",
    "state_after_teleport.show_state(hide=[0,1])"
   ]
  }
 ],
 "metadata": {
  "kernelspec": {
   "display_name": "Python 3",
   "language": "python",
   "name": "python3"
  },
  "language_info": {
   "codemirror_mode": {
    "name": "ipython",
    "version": 3
   },
   "file_extension": ".py",
   "mimetype": "text/x-python",
   "name": "python",
   "nbconvert_exporter": "python",
   "pygments_lexer": "ipython3",
   "version": "3.10.8 (tags/v3.10.8:aaaf517, Oct 11 2022, 16:50:30) [MSC v.1933 64 bit (AMD64)]"
  },
  "vscode": {
   "interpreter": {
    "hash": "fb4569285eef3a3450cb62085a5b1e0da4bce0af555edc33dcf29baf3acc1368"
   }
  }
 },
 "nbformat": 4,
 "nbformat_minor": 5
}
